{
 "metadata": {
  "language_info": {
   "codemirror_mode": {
    "name": "ipython",
    "version": 3
   },
   "file_extension": ".py",
   "mimetype": "text/x-python",
   "name": "python",
   "nbconvert_exporter": "python",
   "pygments_lexer": "ipython3",
   "version": "2.7.17"
  },
  "orig_nbformat": 2,
  "kernelspec": {
   "name": "python2717jvsc74a57bd0a58256f08c839778cd88cd0ee6512abeb22997beb9d3ad9c22543770aed2af6b",
   "display_name": "Python 2.7.17 64-bit"
  },
  "metadata": {
   "interpreter": {
    "hash": "31f2aee4e71d21fbe5cf8b01ff0e069b9275f58929596ceb00d14d90e3e16cd6"
   }
  }
 },
 "nbformat": 4,
 "nbformat_minor": 2,
 "cells": [
  {
   "cell_type": "code",
   "execution_count": 1,
   "metadata": {},
   "outputs": [],
   "source": [
    "%load_ext tensorboard\n"
   ]
  },
  {
   "cell_type": "code",
   "execution_count": 2,
   "metadata": {},
   "outputs": [
    {
     "output_type": "display_data",
     "data": {
      "text/plain": "ERROR: Failed to launch TensorBoard (exited with 255).\nContents of stderr:\nTensorFlow installation not found - running with reduced feature set.\nE0518 15:49:10.522581 140392508532544 program.py:288] TensorBoard could not bind to port 8081, it was already in use\nERROR: TensorBoard could not bind to port 8081, it was already in use"
     },
     "metadata": {}
    }
   ],
   "source": [
    "%tensorboard --logdir /home/AlexandreL/work/Fatigue_analyse/tensorboard/logs/fit/tunning/20210510-094649 --port 8082 --host localhost"
   ]
  },
  {
   "cell_type": "code",
   "execution_count": null,
   "metadata": {},
   "outputs": [],
   "source": []
  }
 ]
}