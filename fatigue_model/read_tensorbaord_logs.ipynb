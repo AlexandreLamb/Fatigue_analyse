{
 "metadata": {
  "language_info": {
   "codemirror_mode": {
    "name": "ipython",
    "version": 3
   },
   "file_extension": ".py",
   "mimetype": "text/x-python",
   "name": "python",
   "nbconvert_exporter": "python",
   "pygments_lexer": "ipython3",
   "version": "3.6.9"
  },
  "orig_nbformat": 2,
  "kernelspec": {
   "name": "python3",
   "display_name": "Python 3",
   "language": "python"
  },
  "metadata": {
   "interpreter": {
    "hash": "df0893f56f349688326838aaeea0de204df53a132722cbd565e54b24a8fec5f6"
   }
  }
 },
 "nbformat": 4,
 "nbformat_minor": 2,
 "cells": [
  {
   "cell_type": "code",
   "execution_count": 1,
   "metadata": {},
   "outputs": [],
   "source": [
    "%load_ext tensorboard\n"
   ]
  },
  {
   "cell_type": "code",
   "execution_count": 3,
   "metadata": {},
   "outputs": [
    {
     "output_type": "display_data",
     "data": {
      "text/plain": "<IPython.core.display.HTML object>",
      "text/html": "\n      <iframe id=\"tensorboard-frame-f1233e9003df0259\" width=\"100%\" height=\"800\" frameborder=\"0\">\n      </iframe>\n      <script>\n        (function() {\n          const frame = document.getElementById(\"tensorboard-frame-f1233e9003df0259\");\n          const url = new URL(\"/\", window.location);\n          url.port = 8087;\n          frame.src = url;\n        })();\n      </script>\n  "
     },
     "metadata": {}
    }
   ],
   "source": [
    "%tensorboard --logdir /home/simeon/Desktop/20210713-172642 --port 8087 --host localhost"
   ]
  },
  {
   "cell_type": "code",
   "execution_count": null,
   "metadata": {},
   "outputs": [],
   "source": []
  },
  {
   "cell_type": "code",
   "execution_count": 9,
   "metadata": {},
   "outputs": [
    {
     "output_type": "display_data",
     "data": {
      "text/plain": "Reusing TensorBoard on port 8090 (pid 19453), started 0:00:00 ago. (Use '!kill 19453' to kill it.)"
     },
     "metadata": {}
    }
   ],
   "source": [
    "%tensorboard --logdir /home/simeon/Desktop/Fatigue_analyse/tensorboard/logs/fit/tunning/20210603-175727 --port 8090 --host localhost"
   ]
  },
  {
   "cell_type": "code",
   "execution_count": 6,
   "metadata": {},
   "outputs": [
    {
     "output_type": "display_data",
     "data": {
      "text/plain": "ERROR: Failed to launch TensorBoard (exited with -6).\nContents of stderr:\nE0610 10:09:30.153130 139674197489472 program.py:311] TensorBoard could not bind to port 8088, it was already in use\nERROR: TensorBoard could not bind to port 8088, it was already in use\nterminate called without an active exception\nFatal Python error: Aborted\n\nCurrent thread 0x00007f07bdfd6700 (most recent call first):\n  File \"/home/simeon/.local/lib/python3.6/site-packages/tensorflow/python/lib/io/tf_record.py\", line 171 in tf_record_iterator\n  File \"/home/simeon/.local/lib/python3.6/site-packages/tensorflow/python/util/deprecation.py\", line 324 in new_func\n  File \"/home/simeon/.local/lib/python3.6/site-packages/tensorboard/backend/event_processing/event_file_loader.py\", line 85 in _make_tf_record_iterator\n  File \"/home/simeon/.local/lib/python3.6/site-packages/tensorboard/backend/event_processing/event_file_loader.py\", line 127 in __init__\n  File \"/home/simeon/.local/lib/python3.6/site-packages/tensorboard/backend/event_processing/event_file_loader.py\", line 177 in __init__\n  File \"/home/simeon/.local/lib/python3.6/site-packages/tensorboard/backend/event_processing/directory_watcher.py\", line 199 in _SetPath\n  File \"/home/simeon/.local/lib/python3.6/site-packages/tensorboard/backend/event_processing/directory_watcher.py\", line 155 in _LoadInternal\n  File \"/home/simeon/.local/lib/python3.6/site-packages/tensorboard/backend/event_processing/directory_watcher.py\", line 90 in Load\n  File \"/home/simeon/.local/lib/python3.6/site-packages/tensorboard/backend/event_processing/plugin_event_accumulator.py\", line 181 in Reload\n  File \"/home/simeon/.local/lib/python3.6/site-packages/tensorboard/backend/event_processing/plugin_event_multiplexer.py\", line 237 in Worker\n  File \"/home/simeon/.local/lib/python3.6/site-packages/tensorboard/backend/event_processing/plugin_event_multiplexer.py\", line 259 in Reload\n  File \"/home/simeon/.local/lib/python3.6/site-packages/tensorboard/backend/application.py\", line 681 in _reload\n  File \"/usr/lib/python3.6/threading.py\", line 864 in run\n  File \"/usr/lib/python3.6/threading.py\", line 916 in _bootstrap_inner\n  File \"/usr/lib/python3.6/threading.py\", line 884 in _bootstrap\n\nThread 0x00007f086eecf740 (most recent call first):"
     },
     "metadata": {}
    }
   ],
   "source": [
    "%tensorboard --logdir /home/simeon/Desktop/Fatigue_analyse/tensorboard/logs/fit/tunning/20210525-154110 --port 8088 --host localhost"
   ]
  },
  {
   "cell_type": "code",
   "execution_count": 7,
   "metadata": {},
   "outputs": [
    {
     "output_type": "display_data",
     "data": {
      "text/plain": "<IPython.core.display.HTML object>",
      "text/html": "\n      <iframe id=\"tensorboard-frame-30b5c58dedfdd628\" width=\"100%\" height=\"800\" frameborder=\"0\">\n      </iframe>\n      <script>\n        (function() {\n          const frame = document.getElementById(\"tensorboard-frame-30b5c58dedfdd628\");\n          const url = new URL(\"/\", window.location);\n          url.port = 8089;\n          frame.src = url;\n        })();\n      </script>\n  "
     },
     "metadata": {}
    }
   ],
   "source": [
    "%tensorboard --logdir /home/simeon/Desktop/Fatigue_analyse/tensorboard/logs/fit/tunning/20210525-154110 --port 8089 --host localhost"
   ]
  },
  {
   "cell_type": "code",
   "execution_count": 10,
   "metadata": {},
   "outputs": [
    {
     "output_type": "display_data",
     "data": {
      "text/plain": "<IPython.core.display.HTML object>",
      "text/html": "\n      <iframe id=\"tensorboard-frame-1905f74df424a938\" width=\"100%\" height=\"800\" frameborder=\"0\">\n      </iframe>\n      <script>\n        (function() {\n          const frame = document.getElementById(\"tensorboard-frame-1905f74df424a938\");\n          const url = new URL(\"/\", window.location);\n          url.port = 8091;\n          frame.src = url;\n        })();\n      </script>\n  "
     },
     "metadata": {}
    }
   ],
   "source": [
    "%tensorboard --logdir /home/simeon/Desktop/Fatigue_analyse/tensorboard/logs/fit/tunning/20210504-153158 --port 8091 --host localhost"
   ]
  },
  {
   "cell_type": "code",
   "execution_count": 2,
   "metadata": {},
   "outputs": [
    {
     "output_type": "display_data",
     "data": {
      "text/plain": "Reusing TensorBoard on port 8086 (pid 32178), started 5 days, 21:16:56 ago. (Use '!kill 32178' to kill it.)"
     },
     "metadata": {}
    }
   ],
   "source": [
    "%tensorboard --logdir /home/simeon/Desktop/Fatigue_analyse/tensorboard/logs/fit/tunning/20210604-103242 --port 8086 --host localhost"
   ]
  },
  {
   "cell_type": "code",
   "execution_count": null,
   "metadata": {},
   "outputs": [],
   "source": []
  }
 ]
}