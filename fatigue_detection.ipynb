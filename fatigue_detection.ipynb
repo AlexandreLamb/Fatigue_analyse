{
 "metadata": {
  "language_info": {
   "codemirror_mode": {
    "name": "ipython",
    "version": 3
   },
   "file_extension": ".py",
   "mimetype": "text/x-python",
   "name": "python",
   "nbconvert_exporter": "python",
   "pygments_lexer": "ipython3",
   "version": "3.8.5-final"
  },
  "orig_nbformat": 2,
  "kernelspec": {
   "name": "python3",
   "display_name": "Python 3",
   "language": "python"
  }
 },
 "nbformat": 4,
 "nbformat_minor": 2,
 "cells": [
  {
   "source": [
    "# Fatigue Detection Using Facial Landmarks and ANN"
   ],
   "cell_type": "markdown",
   "metadata": {}
  },
  {
   "source": [
    "## Input : coordinates (x,y) of face landmarks \n",
    "## Output : Fatigue level\n"
   ],
   "cell_type": "markdown",
   "metadata": {}
  },
  {
   "cell_type": "code",
   "execution_count": 1,
   "metadata": {},
   "outputs": [],
   "source": [
    "import tensorflow as tensorflow\n",
    "from tensorflow import keras\n",
    "import numpy as np\n",
    "import pandas as pd\n",
    "\n",
    "import sklearn\n",
    "from sklearn.metrics import confusion_matrix\n",
    "from sklearn.model_selection import train_test_split"
   ]
  },
  {
   "cell_type": "code",
   "execution_count": 2,
   "metadata": {},
   "outputs": [],
   "source": [
    "video_name = \"DESFAM_Semaine 2-Vendredi_PVT_H64\"\n",
    "video_infos_path = \"data/stage_data_out/videos_infos.csv\"\n",
    "video_path = \"data/stage_data_out/DESFAM_Semaine 2-Vendredi_PVT_H64_hog.csv\""
   ]
  },
  {
   "cell_type": "code",
   "execution_count": 3,
   "metadata": {},
   "outputs": [],
   "source": [
    "df_video_infos = pd.read_csv(video_infos_path)\n",
    "fps = list(df_video_infos[df_video_infos[\"video_name\"]==video_name][\"fps\"])[0]\n",
    "num_min = 5\n",
    "num_sec = num_min*60\n",
    "num_frame_by_num_min = int(fps*num_sec)\n"
   ]
  },
  {
   "cell_type": "code",
   "execution_count": 4,
   "metadata": {},
   "outputs": [
    {
     "output_type": "execute_result",
     "data": {
      "text/plain": [
       "         frame Fatigue Normale\n",
       "0          0.0       0       1\n",
       "1          1.0       0       1\n",
       "2          2.0       0       1\n",
       "3          3.0       0       1\n",
       "4          4.0       0       1\n",
       "...        ...     ...     ...\n",
       "12904  30431.0       1       0\n",
       "12905  30432.0       1       0\n",
       "12906  30433.0       1       0\n",
       "12907  30434.0       1       0\n",
       "12908  30435.0       1       0\n",
       "\n",
       "[12909 rows x 3 columns]"
      ],
      "text/html": "<div>\n<style scoped>\n    .dataframe tbody tr th:only-of-type {\n        vertical-align: middle;\n    }\n\n    .dataframe tbody tr th {\n        vertical-align: top;\n    }\n\n    .dataframe thead th {\n        text-align: right;\n    }\n</style>\n<table border=\"1\" class=\"dataframe\">\n  <thead>\n    <tr style=\"text-align: right;\">\n      <th></th>\n      <th>frame</th>\n      <th>Fatigue</th>\n      <th>Normale</th>\n    </tr>\n  </thead>\n  <tbody>\n    <tr>\n      <th>0</th>\n      <td>0.0</td>\n      <td>0</td>\n      <td>1</td>\n    </tr>\n    <tr>\n      <th>1</th>\n      <td>1.0</td>\n      <td>0</td>\n      <td>1</td>\n    </tr>\n    <tr>\n      <th>2</th>\n      <td>2.0</td>\n      <td>0</td>\n      <td>1</td>\n    </tr>\n    <tr>\n      <th>3</th>\n      <td>3.0</td>\n      <td>0</td>\n      <td>1</td>\n    </tr>\n    <tr>\n      <th>4</th>\n      <td>4.0</td>\n      <td>0</td>\n      <td>1</td>\n    </tr>\n    <tr>\n      <th>...</th>\n      <td>...</td>\n      <td>...</td>\n      <td>...</td>\n    </tr>\n    <tr>\n      <th>12904</th>\n      <td>30431.0</td>\n      <td>1</td>\n      <td>0</td>\n    </tr>\n    <tr>\n      <th>12905</th>\n      <td>30432.0</td>\n      <td>1</td>\n      <td>0</td>\n    </tr>\n    <tr>\n      <th>12906</th>\n      <td>30433.0</td>\n      <td>1</td>\n      <td>0</td>\n    </tr>\n    <tr>\n      <th>12907</th>\n      <td>30434.0</td>\n      <td>1</td>\n      <td>0</td>\n    </tr>\n    <tr>\n      <th>12908</th>\n      <td>30435.0</td>\n      <td>1</td>\n      <td>0</td>\n    </tr>\n  </tbody>\n</table>\n<p>12909 rows × 3 columns</p>\n</div>"
     },
     "metadata": {},
     "execution_count": 4
    }
   ],
   "source": [
    "df_landmarks = pd.read_csv(video_path)\n",
    "frame_df = df_landmarks[\"frame\"]\n",
    "df_label = pd.DataFrame(frame_df)\n",
    "df_label = df_label.append( pd.DataFrame(columns=['Fatigue','Normale']))\n",
    "\n",
    "df_label.loc[lambda df_label: df_label[\"frame\"] <= num_frame_by_num_min,\"Normale\"] = 1\n",
    "df_label.loc[lambda df_label: df_label[\"frame\"] <= num_frame_by_num_min,\"Fatigue\"] = 0\n",
    "\n",
    "df_label.loc[lambda df_label: df_label[\"frame\"] > num_frame_by_num_min,\"Normale\"] = 0\n",
    "df_label.loc[lambda df_label: df_label[\"frame\"] > num_frame_by_num_min,\"Fatigue\"] = 1\n",
    "\n",
    "df_label"
   ]
  },
  {
   "cell_type": "code",
   "execution_count": 61,
   "metadata": {},
   "outputs": [],
   "source": [
    "mean_landmarks_normale = pd.DataFrame(df_landmarks[df_landmarks[\"frame\"] <= num_frame_by_num_min].mean())\n",
    "mean_landmarks_fatigue = pd.DataFrame(df_landmarks[df_landmarks[\"frame\"] > num_frame_by_num_min].mean())\n",
    "mean_landmarks_fatigue = mean_landmarks_fatigue.drop(\"frame\")\n",
    "mean_landmarks_normale = mean_landmarks_normale.drop(\"frame\")\n",
    "mean_landmarks_fatigue = mean_landmarks_fatigue.rename(columns={0 : \"Fatigue Mean\"})\n",
    "mean_landmarks_normale = mean_landmarks_normale.rename(columns={0 : \"Normale Mean\"})\n"
   ]
  },
  {
   "cell_type": "code",
   "execution_count": 63,
   "metadata": {},
   "outputs": [
    {
     "output_type": "execute_result",
     "data": {
      "text/plain": [
       "                Fatigue Mean  Normale Mean   Variance  Mean Difference\n",
       "landmarks_1_x     948.928432    940.268943  37.493377         8.659489\n",
       "landmarks_1_y     458.070312    458.915694   0.357335        -0.845382\n",
       "landmarks_2_x     949.041713    941.249086  30.362523         7.792628\n",
       "landmarks_2_y     478.479771    479.452186   0.472795        -0.972415\n",
       "landmarks_3_x     950.495117    943.606689  23.725223         6.888428\n",
       "...                      ...           ...        ...              ...\n",
       "landmarks_66_y    536.205078    532.847936   5.635202         3.357142\n",
       "landmarks_67_x   1024.118025   1020.762237   5.630657         3.355788\n",
       "landmarks_67_y    536.616490    533.585438   4.593638         3.031052\n",
       "landmarks_68_x   1017.119141   1013.797074   5.518064         3.322067\n",
       "landmarks_68_y    535.744141    533.046856   3.637672         2.697285\n",
       "\n",
       "[136 rows x 4 columns]"
      ],
      "text/html": "<div>\n<style scoped>\n    .dataframe tbody tr th:only-of-type {\n        vertical-align: middle;\n    }\n\n    .dataframe tbody tr th {\n        vertical-align: top;\n    }\n\n    .dataframe thead th {\n        text-align: right;\n    }\n</style>\n<table border=\"1\" class=\"dataframe\">\n  <thead>\n    <tr style=\"text-align: right;\">\n      <th></th>\n      <th>Fatigue Mean</th>\n      <th>Normale Mean</th>\n      <th>Variance</th>\n      <th>Mean Difference</th>\n    </tr>\n  </thead>\n  <tbody>\n    <tr>\n      <th>landmarks_1_x</th>\n      <td>948.928432</td>\n      <td>940.268943</td>\n      <td>37.493377</td>\n      <td>8.659489</td>\n    </tr>\n    <tr>\n      <th>landmarks_1_y</th>\n      <td>458.070312</td>\n      <td>458.915694</td>\n      <td>0.357335</td>\n      <td>-0.845382</td>\n    </tr>\n    <tr>\n      <th>landmarks_2_x</th>\n      <td>949.041713</td>\n      <td>941.249086</td>\n      <td>30.362523</td>\n      <td>7.792628</td>\n    </tr>\n    <tr>\n      <th>landmarks_2_y</th>\n      <td>478.479771</td>\n      <td>479.452186</td>\n      <td>0.472795</td>\n      <td>-0.972415</td>\n    </tr>\n    <tr>\n      <th>landmarks_3_x</th>\n      <td>950.495117</td>\n      <td>943.606689</td>\n      <td>23.725223</td>\n      <td>6.888428</td>\n    </tr>\n    <tr>\n      <th>...</th>\n      <td>...</td>\n      <td>...</td>\n      <td>...</td>\n      <td>...</td>\n    </tr>\n    <tr>\n      <th>landmarks_66_y</th>\n      <td>536.205078</td>\n      <td>532.847936</td>\n      <td>5.635202</td>\n      <td>3.357142</td>\n    </tr>\n    <tr>\n      <th>landmarks_67_x</th>\n      <td>1024.118025</td>\n      <td>1020.762237</td>\n      <td>5.630657</td>\n      <td>3.355788</td>\n    </tr>\n    <tr>\n      <th>landmarks_67_y</th>\n      <td>536.616490</td>\n      <td>533.585438</td>\n      <td>4.593638</td>\n      <td>3.031052</td>\n    </tr>\n    <tr>\n      <th>landmarks_68_x</th>\n      <td>1017.119141</td>\n      <td>1013.797074</td>\n      <td>5.518064</td>\n      <td>3.322067</td>\n    </tr>\n    <tr>\n      <th>landmarks_68_y</th>\n      <td>535.744141</td>\n      <td>533.046856</td>\n      <td>3.637672</td>\n      <td>2.697285</td>\n    </tr>\n  </tbody>\n</table>\n<p>136 rows × 4 columns</p>\n</div>"
     },
     "metadata": {},
     "execution_count": 63
    }
   ],
   "source": [
    "mean_landamrks = pd.concat([mean_landmarks_fatigue, mean_landmarks_normale], axis=1)\n",
    "mean_landamrks[\"Variance\"] = mean_landamrks.var(axis=1)\n",
    "mean_landamrks[\"Mean Difference\"] = mean_landamrks[\"Fatigue Mean\"] - mean_landamrks[\"Normale Mean\"]\n",
    "mean_landamrks"
   ]
  },
  {
   "cell_type": "code",
   "execution_count": null,
   "metadata": {},
   "outputs": [],
   "source": []
  }
 ]
}