{
 "metadata": {
  "language_info": {
   "codemirror_mode": {
    "name": "ipython",
    "version": 3
   },
   "file_extension": ".py",
   "mimetype": "text/x-python",
   "name": "python",
   "nbconvert_exporter": "python",
   "pygments_lexer": "ipython3",
   "version": "3.8.5-final"
  },
  "orig_nbformat": 2,
  "kernelspec": {
   "name": "python3",
   "display_name": "Python 3",
   "language": "python"
  }
 },
 "nbformat": 4,
 "nbformat_minor": 2,
 "cells": [
  {
   "source": [
    "# Fatigue Detection Using Facial Landmarks and ANN"
   ],
   "cell_type": "markdown",
   "metadata": {}
  },
  {
   "source": [
    "## Input : coordinates (x,y) of face landmarks \n",
    "## Output : Fatigue level\n"
   ],
   "cell_type": "markdown",
   "metadata": {}
  },
  {
   "cell_type": "code",
   "execution_count": 1,
   "metadata": {},
   "outputs": [],
   "source": [
    "import tensorflow as tf\n",
    "from tensorflow import keras\n",
    "import numpy as np\n",
    "import pandas as pd\n",
    "\n",
    "\n",
    "import sklearn\n",
    "from sklearn.metrics import confusion_matrix\n",
    "from sklearn.model_selection import train_test_split"
   ]
  },
  {
   "source": [
    "### Import data analyse class for cacluls parameter from landamrks"
   ],
   "cell_type": "markdown",
   "metadata": {}
  },
  {
   "cell_type": "code",
   "execution_count": 2,
   "metadata": {},
   "outputs": [],
   "source": [
    "from data_analyse import AnalyseData\n",
    "from format_data import DataFormator"
   ]
  },
  {
   "source": [
    "### Define Path of csv data and video infos"
   ],
   "cell_type": "markdown",
   "metadata": {}
  },
  {
   "cell_type": "code",
   "execution_count": 3,
   "metadata": {},
   "outputs": [],
   "source": [
    "video_name = \"DESFAM_Semaine 2-Vendredi_PVT_H64\"\n",
    "video_infos_path = \"data/stage_data_out/videos_infos.csv\"\n",
    "video_path = \"data/stage_data_out/DESFAM_Semaine 2-Vendredi_PVT_H64_hog.csv\""
   ]
  },
  {
   "source": [
    "### Append Measure"
   ],
   "cell_type": "markdown",
   "metadata": {}
  },
  {
   "cell_type": "code",
   "execution_count": 4,
   "metadata": {},
   "outputs": [
    {
     "output_type": "execute_result",
     "data": {
      "text/plain": [
       "       frame     ear_l     ear_r       ear\n",
       "0          0  0.387097  0.415926  0.401511\n",
       "1          1  0.403226  0.385297  0.394261\n",
       "2          2  0.401164  0.399806  0.400485\n",
       "3          3  0.387566  0.399806  0.393686\n",
       "4          4  0.355385  0.399806  0.377596\n",
       "...      ...       ...       ...       ...\n",
       "12904  30431  0.316491  0.316491  0.316491\n",
       "12905  30432  0.338534  0.354654  0.346594\n",
       "12906  30433  0.334254  0.333979  0.334116\n",
       "12907  30434  0.322413  0.339441  0.330927\n",
       "12908  30435  0.366463  0.339265  0.352864\n",
       "\n",
       "[12909 rows x 4 columns]"
      ],
      "text/html": "<div>\n<style scoped>\n    .dataframe tbody tr th:only-of-type {\n        vertical-align: middle;\n    }\n\n    .dataframe tbody tr th {\n        vertical-align: top;\n    }\n\n    .dataframe thead th {\n        text-align: right;\n    }\n</style>\n<table border=\"1\" class=\"dataframe\">\n  <thead>\n    <tr style=\"text-align: right;\">\n      <th></th>\n      <th>frame</th>\n      <th>ear_l</th>\n      <th>ear_r</th>\n      <th>ear</th>\n    </tr>\n  </thead>\n  <tbody>\n    <tr>\n      <th>0</th>\n      <td>0</td>\n      <td>0.387097</td>\n      <td>0.415926</td>\n      <td>0.401511</td>\n    </tr>\n    <tr>\n      <th>1</th>\n      <td>1</td>\n      <td>0.403226</td>\n      <td>0.385297</td>\n      <td>0.394261</td>\n    </tr>\n    <tr>\n      <th>2</th>\n      <td>2</td>\n      <td>0.401164</td>\n      <td>0.399806</td>\n      <td>0.400485</td>\n    </tr>\n    <tr>\n      <th>3</th>\n      <td>3</td>\n      <td>0.387566</td>\n      <td>0.399806</td>\n      <td>0.393686</td>\n    </tr>\n    <tr>\n      <th>4</th>\n      <td>4</td>\n      <td>0.355385</td>\n      <td>0.399806</td>\n      <td>0.377596</td>\n    </tr>\n    <tr>\n      <th>...</th>\n      <td>...</td>\n      <td>...</td>\n      <td>...</td>\n      <td>...</td>\n    </tr>\n    <tr>\n      <th>12904</th>\n      <td>30431</td>\n      <td>0.316491</td>\n      <td>0.316491</td>\n      <td>0.316491</td>\n    </tr>\n    <tr>\n      <th>12905</th>\n      <td>30432</td>\n      <td>0.338534</td>\n      <td>0.354654</td>\n      <td>0.346594</td>\n    </tr>\n    <tr>\n      <th>12906</th>\n      <td>30433</td>\n      <td>0.334254</td>\n      <td>0.333979</td>\n      <td>0.334116</td>\n    </tr>\n    <tr>\n      <th>12907</th>\n      <td>30434</td>\n      <td>0.322413</td>\n      <td>0.339441</td>\n      <td>0.330927</td>\n    </tr>\n    <tr>\n      <th>12908</th>\n      <td>30435</td>\n      <td>0.366463</td>\n      <td>0.339265</td>\n      <td>0.352864</td>\n    </tr>\n  </tbody>\n</table>\n<p>12909 rows × 4 columns</p>\n</div>"
     },
     "metadata": {},
     "execution_count": 4
    }
   ],
   "source": [
    "analyse_data = AnalyseData(video_path)\n",
    "analyse_data.measure_ear()\n",
    "analyse_data.df_measure"
   ]
  },
  {
   "source": [
    "### Append Label"
   ],
   "cell_type": "markdown",
   "metadata": {}
  },
  {
   "cell_type": "code",
   "execution_count": 5,
   "metadata": {},
   "outputs": [],
   "source": [
    "df_ear = DataFormator.make_label_df(num_min = 5, video_name = video_name, df_measure= analyse_data.df_measure)\n"
   ]
  },
  {
   "cell_type": "code",
   "execution_count": 8,
   "metadata": {},
   "outputs": [
    {
     "output_type": "execute_result",
     "data": {
      "text/plain": [
       "['frame', 'ear_l', 'ear_r', 'ear', 'Target']"
      ]
     },
     "metadata": {},
     "execution_count": 8
    }
   ],
   "source": [
    "list(df_ear)\n",
    "#d)f_temporal, df_label = DataFormator.make_df_temporal_label([10,20,30,40,50],df_ear)\n",
    "#df_temporal"
   ]
  },
  {
   "cell_type": "code",
   "execution_count": 169,
   "metadata": {
    "tags": []
   },
   "outputs": [
    {
     "output_type": "execute_result",
     "data": {
      "text/plain": [
       "                                                        10  \\\n",
       "0.0      [0.4015111547859027, 0.3942612929461871, 0.400...   \n",
       "1.0      [0.3942612929461871, 0.40048472491073644, 0.39...   \n",
       "2.0      [0.40048472491073644, 0.39368591517614826, 0.3...   \n",
       "3.0      [0.39368591517614826, 0.3775956268825858, 0.38...   \n",
       "4.0      [0.3775956268825858, 0.3875660596535488, 0.387...   \n",
       "...                                                    ...   \n",
       "30420.0  [0.34161509465156437, 0.3337936122176566, 0.33...   \n",
       "30421.0  [0.3337936122176566, 0.33952978246854537, 0.33...   \n",
       "30422.0  [0.33952978246854537, 0.33296419297610147, 0.3...   \n",
       "30423.0  [0.33296419297610147, 0.3420902444067729, 0.34...   \n",
       "30424.0  [0.3420902444067729, 0.34961240262490656, 0.33...   \n",
       "\n",
       "                                                        20  \\\n",
       "0.0      [0.4015111547859027, 0.3942612929461871, 0.400...   \n",
       "1.0      [0.3942612929461871, 0.40048472491073644, 0.39...   \n",
       "2.0      [0.40048472491073644, 0.39368591517614826, 0.3...   \n",
       "3.0      [0.39368591517614826, 0.3775956268825858, 0.38...   \n",
       "4.0      [0.3775956268825858, 0.3875660596535488, 0.387...   \n",
       "...                                                    ...   \n",
       "30420.0                                                NaN   \n",
       "30421.0                                                NaN   \n",
       "30422.0                                                NaN   \n",
       "30423.0                                                NaN   \n",
       "30424.0                                                NaN   \n",
       "\n",
       "                                                        30  \\\n",
       "0.0      [0.4015111547859027, 0.3942612929461871, 0.400...   \n",
       "1.0      [0.3942612929461871, 0.40048472491073644, 0.39...   \n",
       "2.0      [0.40048472491073644, 0.39368591517614826, 0.3...   \n",
       "3.0      [0.39368591517614826, 0.3775956268825858, 0.38...   \n",
       "4.0      [0.3775956268825858, 0.3875660596535488, 0.387...   \n",
       "...                                                    ...   \n",
       "30420.0                                                NaN   \n",
       "30421.0                                                NaN   \n",
       "30422.0                                                NaN   \n",
       "30423.0                                                NaN   \n",
       "30424.0                                                NaN   \n",
       "\n",
       "                                                        40  \\\n",
       "0.0      [0.4015111547859027, 0.3942612929461871, 0.400...   \n",
       "1.0      [0.3942612929461871, 0.40048472491073644, 0.39...   \n",
       "2.0      [0.40048472491073644, 0.39368591517614826, 0.3...   \n",
       "3.0      [0.39368591517614826, 0.3775956268825858, 0.38...   \n",
       "4.0      [0.3775956268825858, 0.3875660596535488, 0.387...   \n",
       "...                                                    ...   \n",
       "30420.0                                                NaN   \n",
       "30421.0                                                NaN   \n",
       "30422.0                                                NaN   \n",
       "30423.0                                                NaN   \n",
       "30424.0                                                NaN   \n",
       "\n",
       "                                                        50  \n",
       "0.0      [0.4015111547859027, 0.3942612929461871, 0.400...  \n",
       "1.0      [0.3942612929461871, 0.40048472491073644, 0.39...  \n",
       "2.0      [0.40048472491073644, 0.39368591517614826, 0.3...  \n",
       "3.0      [0.39368591517614826, 0.3775956268825858, 0.38...  \n",
       "4.0      [0.3775956268825858, 0.3875660596535488, 0.387...  \n",
       "...                                                    ...  \n",
       "30420.0                                                NaN  \n",
       "30421.0                                                NaN  \n",
       "30422.0                                                NaN  \n",
       "30423.0                                                NaN  \n",
       "30424.0                                                NaN  \n",
       "\n",
       "[12223 rows x 5 columns]"
      ],
      "text/html": "<div>\n<style scoped>\n    .dataframe tbody tr th:only-of-type {\n        vertical-align: middle;\n    }\n\n    .dataframe tbody tr th {\n        vertical-align: top;\n    }\n\n    .dataframe thead th {\n        text-align: right;\n    }\n</style>\n<table border=\"1\" class=\"dataframe\">\n  <thead>\n    <tr style=\"text-align: right;\">\n      <th></th>\n      <th>10</th>\n      <th>20</th>\n      <th>30</th>\n      <th>40</th>\n      <th>50</th>\n    </tr>\n  </thead>\n  <tbody>\n    <tr>\n      <th>0.0</th>\n      <td>[0.4015111547859027, 0.3942612929461871, 0.400...</td>\n      <td>[0.4015111547859027, 0.3942612929461871, 0.400...</td>\n      <td>[0.4015111547859027, 0.3942612929461871, 0.400...</td>\n      <td>[0.4015111547859027, 0.3942612929461871, 0.400...</td>\n      <td>[0.4015111547859027, 0.3942612929461871, 0.400...</td>\n    </tr>\n    <tr>\n      <th>1.0</th>\n      <td>[0.3942612929461871, 0.40048472491073644, 0.39...</td>\n      <td>[0.3942612929461871, 0.40048472491073644, 0.39...</td>\n      <td>[0.3942612929461871, 0.40048472491073644, 0.39...</td>\n      <td>[0.3942612929461871, 0.40048472491073644, 0.39...</td>\n      <td>[0.3942612929461871, 0.40048472491073644, 0.39...</td>\n    </tr>\n    <tr>\n      <th>2.0</th>\n      <td>[0.40048472491073644, 0.39368591517614826, 0.3...</td>\n      <td>[0.40048472491073644, 0.39368591517614826, 0.3...</td>\n      <td>[0.40048472491073644, 0.39368591517614826, 0.3...</td>\n      <td>[0.40048472491073644, 0.39368591517614826, 0.3...</td>\n      <td>[0.40048472491073644, 0.39368591517614826, 0.3...</td>\n    </tr>\n    <tr>\n      <th>3.0</th>\n      <td>[0.39368591517614826, 0.3775956268825858, 0.38...</td>\n      <td>[0.39368591517614826, 0.3775956268825858, 0.38...</td>\n      <td>[0.39368591517614826, 0.3775956268825858, 0.38...</td>\n      <td>[0.39368591517614826, 0.3775956268825858, 0.38...</td>\n      <td>[0.39368591517614826, 0.3775956268825858, 0.38...</td>\n    </tr>\n    <tr>\n      <th>4.0</th>\n      <td>[0.3775956268825858, 0.3875660596535488, 0.387...</td>\n      <td>[0.3775956268825858, 0.3875660596535488, 0.387...</td>\n      <td>[0.3775956268825858, 0.3875660596535488, 0.387...</td>\n      <td>[0.3775956268825858, 0.3875660596535488, 0.387...</td>\n      <td>[0.3775956268825858, 0.3875660596535488, 0.387...</td>\n    </tr>\n    <tr>\n      <th>...</th>\n      <td>...</td>\n      <td>...</td>\n      <td>...</td>\n      <td>...</td>\n      <td>...</td>\n    </tr>\n    <tr>\n      <th>30420.0</th>\n      <td>[0.34161509465156437, 0.3337936122176566, 0.33...</td>\n      <td>NaN</td>\n      <td>NaN</td>\n      <td>NaN</td>\n      <td>NaN</td>\n    </tr>\n    <tr>\n      <th>30421.0</th>\n      <td>[0.3337936122176566, 0.33952978246854537, 0.33...</td>\n      <td>NaN</td>\n      <td>NaN</td>\n      <td>NaN</td>\n      <td>NaN</td>\n    </tr>\n    <tr>\n      <th>30422.0</th>\n      <td>[0.33952978246854537, 0.33296419297610147, 0.3...</td>\n      <td>NaN</td>\n      <td>NaN</td>\n      <td>NaN</td>\n      <td>NaN</td>\n    </tr>\n    <tr>\n      <th>30423.0</th>\n      <td>[0.33296419297610147, 0.3420902444067729, 0.34...</td>\n      <td>NaN</td>\n      <td>NaN</td>\n      <td>NaN</td>\n      <td>NaN</td>\n    </tr>\n    <tr>\n      <th>30424.0</th>\n      <td>[0.3420902444067729, 0.34961240262490656, 0.33...</td>\n      <td>NaN</td>\n      <td>NaN</td>\n      <td>NaN</td>\n      <td>NaN</td>\n    </tr>\n  </tbody>\n</table>\n<p>12223 rows × 5 columns</p>\n</div>"
     },
     "metadata": {},
     "execution_count": 169
    }
   ],
   "source": [
    "list_frame_consecutive = [10,20,30,40,50]\n",
    "\n",
    "df_temporal  = pd.DataFrame(columns=list_frame_consecutive, dtype='object')\n",
    "df_label = pd.DataFrame(columns=list_frame_consecutive)\n",
    "for num_frame_consecutive in list_frame_consecutive:\n",
    "    for index in df_ear[\"frame\"]:\n",
    "        if index+num_frame_consecutive < df_ear[\"frame\"].max():\n",
    "            ear = df_ear[df_ear[\"frame\"].between(index, index+num_frame_consecutive-1)][\"ear\"]\n",
    "            if len(ear)==num_frame_consecutive:\n",
    "                df_temporal.loc[index,num_frame_consecutive]=list(ear)\n",
    "                label = 0 if df_ear[df_ear[\"frame\"].between(index, index+num_frame_consecutive-1)][\"Target\"].sum() == 0 else 1\n",
    "                df_label = df_label.append(pd.DataFrame([label], columns=[num_frame_consecutive]))\n",
    "df_temporal"
   ]
  },
  {
   "cell_type": "code",
   "execution_count": 184,
   "metadata": {},
   "outputs": [
    {
     "output_type": "execute_result",
     "data": {
      "text/plain": [
       "10    6860.0\n",
       "20    6639.0\n",
       "30    6439.0\n",
       "40    6249.0\n",
       "50    6078.0\n",
       "dtype: float64"
      ]
     },
     "metadata": {},
     "execution_count": 184
    }
   ],
   "source": [
    "df_label.to_csv(\"data/stage_data_out/dataset/label_ear.csv\")\n",
    "df_temporal.to_csv(\"data/stage_data_out/dataset/features_ear.csv\")\n"
   ]
  },
  {
   "cell_type": "code",
   "execution_count": 247,
   "metadata": {},
   "outputs": [],
   "source": [
    "list_frame_consecutive = [10,20,30,40,50]\n",
    "df_tab=[]\n",
    "for num_frame_consecutive in list_frame_consecutive:    \n",
    "    df_features = pd.DataFrame(df_temporal[df_temporal[num_frame_consecutive].notna()][num_frame_consecutive]).rename(columns = {num_frame_consecutive : \"ear_\"+str(num_frame_consecutive)+ \"_temporal\"})\n",
    "    df_features = df_features.set_index(np.arange(len(df_features)))\n",
    "    df_target = pd.DataFrame(df_label[df_label[num_frame_consecutive].notna()][num_frame_consecutive]).rename(columns = {num_frame_consecutive : \"target\"})\n",
    "    df_target = df_target.set_index(np.arange(len(df_target)))\n",
    "    df_tab.append(df_features.join(df_target))\n"
   ]
  },
  {
   "cell_type": "code",
   "execution_count": 230,
   "metadata": {},
   "outputs": [],
   "source": [
    "for df in df_tab : \n",
    "    df.to_csv(\"data/stage_data_out/dataset/dataset_\"+df.columns[0]+\".csv\")"
   ]
  },
  {
   "cell_type": "code",
   "execution_count": 1,
   "metadata": {},
   "outputs": [
    {
     "output_type": "error",
     "ename": "NameError",
     "evalue": "name 'df_tab' is not defined",
     "traceback": [
      "\u001b[0;31m---------------------------------------------------------------------------\u001b[0m",
      "\u001b[0;31mNameError\u001b[0m                                 Traceback (most recent call last)",
      "\u001b[0;32m<ipython-input-1-f282090e1e53>\u001b[0m in \u001b[0;36m<module>\u001b[0;34m\u001b[0m\n\u001b[0;32m----> 1\u001b[0;31m \u001b[0mdf_tab\u001b[0m\u001b[0;34m[\u001b[0m\u001b[0;36m0\u001b[0m\u001b[0;34m]\u001b[0m\u001b[0;34m.\u001b[0m\u001b[0mhead\u001b[0m\u001b[0;34m\u001b[0m\u001b[0;34m\u001b[0m\u001b[0m\n\u001b[0m",
      "\u001b[0;31mNameError\u001b[0m: name 'df_tab' is not defined"
     ]
    }
   ],
   "source": []
  },
  {
   "cell_type": "code",
   "execution_count": 233,
   "metadata": {},
   "outputs": [
    {
     "output_type": "error",
     "ename": "ValueError",
     "evalue": "Failed to convert a NumPy array to a Tensor (Unsupported object type list).",
     "traceback": [
      "\u001b[0;31m---------------------------------------------------------------------------\u001b[0m",
      "\u001b[0;31mValueError\u001b[0m                                Traceback (most recent call last)",
      "\u001b[0;32m<ipython-input-233-2398472c2867>\u001b[0m in \u001b[0;36m<module>\u001b[0;34m\u001b[0m\n\u001b[0;32m----> 1\u001b[0;31m \u001b[0mdataset\u001b[0m \u001b[0;34m=\u001b[0m \u001b[0mtf\u001b[0m\u001b[0;34m.\u001b[0m\u001b[0mdata\u001b[0m\u001b[0;34m.\u001b[0m\u001b[0mDataset\u001b[0m\u001b[0;34m.\u001b[0m\u001b[0mfrom_tensor_slices\u001b[0m\u001b[0;34m(\u001b[0m\u001b[0;34m(\u001b[0m\u001b[0mdf_tab\u001b[0m\u001b[0;34m[\u001b[0m\u001b[0;36m0\u001b[0m\u001b[0;34m]\u001b[0m\u001b[0;34m[\u001b[0m\u001b[0;34m\"ear_10_temporal\"\u001b[0m\u001b[0;34m]\u001b[0m\u001b[0;34m.\u001b[0m\u001b[0mvalues\u001b[0m\u001b[0;34m,\u001b[0m \u001b[0mdf_tab\u001b[0m\u001b[0;34m[\u001b[0m\u001b[0;36m0\u001b[0m\u001b[0;34m]\u001b[0m\u001b[0;34m[\u001b[0m\u001b[0;34m\"target\"\u001b[0m\u001b[0;34m]\u001b[0m\u001b[0;34m.\u001b[0m\u001b[0mvalues\u001b[0m\u001b[0;34m)\u001b[0m\u001b[0;34m)\u001b[0m\u001b[0;34m\u001b[0m\u001b[0;34m\u001b[0m\u001b[0m\n\u001b[0m",
      "\u001b[0;32m~/.local/lib/python3.8/site-packages/tensorflow/python/data/ops/dataset_ops.py\u001b[0m in \u001b[0;36mfrom_tensor_slices\u001b[0;34m(tensors)\u001b[0m\n\u001b[1;32m    680\u001b[0m       \u001b[0mDataset\u001b[0m\u001b[0;34m:\u001b[0m \u001b[0mA\u001b[0m\u001b[0;31m \u001b[0m\u001b[0;31m`\u001b[0m\u001b[0mDataset\u001b[0m\u001b[0;31m`\u001b[0m\u001b[0;34m.\u001b[0m\u001b[0;34m\u001b[0m\u001b[0;34m\u001b[0m\u001b[0m\n\u001b[1;32m    681\u001b[0m     \"\"\"\n\u001b[0;32m--> 682\u001b[0;31m     \u001b[0;32mreturn\u001b[0m \u001b[0mTensorSliceDataset\u001b[0m\u001b[0;34m(\u001b[0m\u001b[0mtensors\u001b[0m\u001b[0;34m)\u001b[0m\u001b[0;34m\u001b[0m\u001b[0;34m\u001b[0m\u001b[0m\n\u001b[0m\u001b[1;32m    683\u001b[0m \u001b[0;34m\u001b[0m\u001b[0m\n\u001b[1;32m    684\u001b[0m   \u001b[0;32mclass\u001b[0m \u001b[0m_GeneratorState\u001b[0m\u001b[0;34m(\u001b[0m\u001b[0mobject\u001b[0m\u001b[0;34m)\u001b[0m\u001b[0;34m:\u001b[0m\u001b[0;34m\u001b[0m\u001b[0;34m\u001b[0m\u001b[0m\n",
      "\u001b[0;32m~/.local/lib/python3.8/site-packages/tensorflow/python/data/ops/dataset_ops.py\u001b[0m in \u001b[0;36m__init__\u001b[0;34m(self, element)\u001b[0m\n\u001b[1;32m   2999\u001b[0m   \u001b[0;32mdef\u001b[0m \u001b[0m__init__\u001b[0m\u001b[0;34m(\u001b[0m\u001b[0mself\u001b[0m\u001b[0;34m,\u001b[0m \u001b[0melement\u001b[0m\u001b[0;34m)\u001b[0m\u001b[0;34m:\u001b[0m\u001b[0;34m\u001b[0m\u001b[0;34m\u001b[0m\u001b[0m\n\u001b[1;32m   3000\u001b[0m     \u001b[0;34m\"\"\"See `Dataset.from_tensor_slices()` for details.\"\"\"\u001b[0m\u001b[0;34m\u001b[0m\u001b[0;34m\u001b[0m\u001b[0m\n\u001b[0;32m-> 3001\u001b[0;31m     \u001b[0melement\u001b[0m \u001b[0;34m=\u001b[0m \u001b[0mstructure\u001b[0m\u001b[0;34m.\u001b[0m\u001b[0mnormalize_element\u001b[0m\u001b[0;34m(\u001b[0m\u001b[0melement\u001b[0m\u001b[0;34m)\u001b[0m\u001b[0;34m\u001b[0m\u001b[0;34m\u001b[0m\u001b[0m\n\u001b[0m\u001b[1;32m   3002\u001b[0m     \u001b[0mbatched_spec\u001b[0m \u001b[0;34m=\u001b[0m \u001b[0mstructure\u001b[0m\u001b[0;34m.\u001b[0m\u001b[0mtype_spec_from_value\u001b[0m\u001b[0;34m(\u001b[0m\u001b[0melement\u001b[0m\u001b[0;34m)\u001b[0m\u001b[0;34m\u001b[0m\u001b[0;34m\u001b[0m\u001b[0m\n\u001b[1;32m   3003\u001b[0m     \u001b[0mself\u001b[0m\u001b[0;34m.\u001b[0m\u001b[0m_tensors\u001b[0m \u001b[0;34m=\u001b[0m \u001b[0mstructure\u001b[0m\u001b[0;34m.\u001b[0m\u001b[0mto_batched_tensor_list\u001b[0m\u001b[0;34m(\u001b[0m\u001b[0mbatched_spec\u001b[0m\u001b[0;34m,\u001b[0m \u001b[0melement\u001b[0m\u001b[0;34m)\u001b[0m\u001b[0;34m\u001b[0m\u001b[0;34m\u001b[0m\u001b[0m\n",
      "\u001b[0;32m~/.local/lib/python3.8/site-packages/tensorflow/python/data/util/structure.py\u001b[0m in \u001b[0;36mnormalize_element\u001b[0;34m(element)\u001b[0m\n\u001b[1;32m    113\u001b[0m         \u001b[0;32melse\u001b[0m\u001b[0;34m:\u001b[0m\u001b[0;34m\u001b[0m\u001b[0;34m\u001b[0m\u001b[0m\n\u001b[1;32m    114\u001b[0m           normalized_components.append(\n\u001b[0;32m--> 115\u001b[0;31m               ops.convert_to_tensor(t, name=\"component_%d\" % i))\n\u001b[0m\u001b[1;32m    116\u001b[0m   \u001b[0;32mreturn\u001b[0m \u001b[0mnest\u001b[0m\u001b[0;34m.\u001b[0m\u001b[0mpack_sequence_as\u001b[0m\u001b[0;34m(\u001b[0m\u001b[0melement\u001b[0m\u001b[0;34m,\u001b[0m \u001b[0mnormalized_components\u001b[0m\u001b[0;34m)\u001b[0m\u001b[0;34m\u001b[0m\u001b[0;34m\u001b[0m\u001b[0m\n\u001b[1;32m    117\u001b[0m \u001b[0;34m\u001b[0m\u001b[0m\n",
      "\u001b[0;32m~/.local/lib/python3.8/site-packages/tensorflow/python/framework/ops.py\u001b[0m in \u001b[0;36mconvert_to_tensor\u001b[0;34m(value, dtype, name, as_ref, preferred_dtype, dtype_hint, ctx, accepted_result_types)\u001b[0m\n\u001b[1;32m   1497\u001b[0m \u001b[0;34m\u001b[0m\u001b[0m\n\u001b[1;32m   1498\u001b[0m     \u001b[0;32mif\u001b[0m \u001b[0mret\u001b[0m \u001b[0;32mis\u001b[0m \u001b[0;32mNone\u001b[0m\u001b[0;34m:\u001b[0m\u001b[0;34m\u001b[0m\u001b[0;34m\u001b[0m\u001b[0m\n\u001b[0;32m-> 1499\u001b[0;31m       \u001b[0mret\u001b[0m \u001b[0;34m=\u001b[0m \u001b[0mconversion_func\u001b[0m\u001b[0;34m(\u001b[0m\u001b[0mvalue\u001b[0m\u001b[0;34m,\u001b[0m \u001b[0mdtype\u001b[0m\u001b[0;34m=\u001b[0m\u001b[0mdtype\u001b[0m\u001b[0;34m,\u001b[0m \u001b[0mname\u001b[0m\u001b[0;34m=\u001b[0m\u001b[0mname\u001b[0m\u001b[0;34m,\u001b[0m \u001b[0mas_ref\u001b[0m\u001b[0;34m=\u001b[0m\u001b[0mas_ref\u001b[0m\u001b[0;34m)\u001b[0m\u001b[0;34m\u001b[0m\u001b[0;34m\u001b[0m\u001b[0m\n\u001b[0m\u001b[1;32m   1500\u001b[0m \u001b[0;34m\u001b[0m\u001b[0m\n\u001b[1;32m   1501\u001b[0m     \u001b[0;32mif\u001b[0m \u001b[0mret\u001b[0m \u001b[0;32mis\u001b[0m \u001b[0mNotImplemented\u001b[0m\u001b[0;34m:\u001b[0m\u001b[0;34m\u001b[0m\u001b[0;34m\u001b[0m\u001b[0m\n",
      "\u001b[0;32m~/.local/lib/python3.8/site-packages/tensorflow/python/framework/tensor_conversion_registry.py\u001b[0m in \u001b[0;36m_default_conversion_function\u001b[0;34m(***failed resolving arguments***)\u001b[0m\n\u001b[1;32m     50\u001b[0m \u001b[0;32mdef\u001b[0m \u001b[0m_default_conversion_function\u001b[0m\u001b[0;34m(\u001b[0m\u001b[0mvalue\u001b[0m\u001b[0;34m,\u001b[0m \u001b[0mdtype\u001b[0m\u001b[0;34m,\u001b[0m \u001b[0mname\u001b[0m\u001b[0;34m,\u001b[0m \u001b[0mas_ref\u001b[0m\u001b[0;34m)\u001b[0m\u001b[0;34m:\u001b[0m\u001b[0;34m\u001b[0m\u001b[0;34m\u001b[0m\u001b[0m\n\u001b[1;32m     51\u001b[0m   \u001b[0;32mdel\u001b[0m \u001b[0mas_ref\u001b[0m  \u001b[0;31m# Unused.\u001b[0m\u001b[0;34m\u001b[0m\u001b[0;34m\u001b[0m\u001b[0m\n\u001b[0;32m---> 52\u001b[0;31m   \u001b[0;32mreturn\u001b[0m \u001b[0mconstant_op\u001b[0m\u001b[0;34m.\u001b[0m\u001b[0mconstant\u001b[0m\u001b[0;34m(\u001b[0m\u001b[0mvalue\u001b[0m\u001b[0;34m,\u001b[0m \u001b[0mdtype\u001b[0m\u001b[0;34m,\u001b[0m \u001b[0mname\u001b[0m\u001b[0;34m=\u001b[0m\u001b[0mname\u001b[0m\u001b[0;34m)\u001b[0m\u001b[0;34m\u001b[0m\u001b[0;34m\u001b[0m\u001b[0m\n\u001b[0m\u001b[1;32m     53\u001b[0m \u001b[0;34m\u001b[0m\u001b[0m\n\u001b[1;32m     54\u001b[0m \u001b[0;34m\u001b[0m\u001b[0m\n",
      "\u001b[0;32m~/.local/lib/python3.8/site-packages/tensorflow/python/framework/constant_op.py\u001b[0m in \u001b[0;36mconstant\u001b[0;34m(value, dtype, shape, name)\u001b[0m\n\u001b[1;32m    261\u001b[0m     \u001b[0mValueError\u001b[0m\u001b[0;34m:\u001b[0m \u001b[0;32mif\u001b[0m \u001b[0mcalled\u001b[0m \u001b[0mon\u001b[0m \u001b[0ma\u001b[0m \u001b[0msymbolic\u001b[0m \u001b[0mtensor\u001b[0m\u001b[0;34m.\u001b[0m\u001b[0;34m\u001b[0m\u001b[0;34m\u001b[0m\u001b[0m\n\u001b[1;32m    262\u001b[0m   \"\"\"\n\u001b[0;32m--> 263\u001b[0;31m   return _constant_impl(value, dtype, shape, name, verify_shape=False,\n\u001b[0m\u001b[1;32m    264\u001b[0m                         allow_broadcast=True)\n\u001b[1;32m    265\u001b[0m \u001b[0;34m\u001b[0m\u001b[0m\n",
      "\u001b[0;32m~/.local/lib/python3.8/site-packages/tensorflow/python/framework/constant_op.py\u001b[0m in \u001b[0;36m_constant_impl\u001b[0;34m(value, dtype, shape, name, verify_shape, allow_broadcast)\u001b[0m\n\u001b[1;32m    273\u001b[0m       \u001b[0;32mwith\u001b[0m \u001b[0mtrace\u001b[0m\u001b[0;34m.\u001b[0m\u001b[0mTrace\u001b[0m\u001b[0;34m(\u001b[0m\u001b[0;34m\"tf.constant\"\u001b[0m\u001b[0;34m)\u001b[0m\u001b[0;34m:\u001b[0m\u001b[0;34m\u001b[0m\u001b[0;34m\u001b[0m\u001b[0m\n\u001b[1;32m    274\u001b[0m         \u001b[0;32mreturn\u001b[0m \u001b[0m_constant_eager_impl\u001b[0m\u001b[0;34m(\u001b[0m\u001b[0mctx\u001b[0m\u001b[0;34m,\u001b[0m \u001b[0mvalue\u001b[0m\u001b[0;34m,\u001b[0m \u001b[0mdtype\u001b[0m\u001b[0;34m,\u001b[0m \u001b[0mshape\u001b[0m\u001b[0;34m,\u001b[0m \u001b[0mverify_shape\u001b[0m\u001b[0;34m)\u001b[0m\u001b[0;34m\u001b[0m\u001b[0;34m\u001b[0m\u001b[0m\n\u001b[0;32m--> 275\u001b[0;31m     \u001b[0;32mreturn\u001b[0m \u001b[0m_constant_eager_impl\u001b[0m\u001b[0;34m(\u001b[0m\u001b[0mctx\u001b[0m\u001b[0;34m,\u001b[0m \u001b[0mvalue\u001b[0m\u001b[0;34m,\u001b[0m \u001b[0mdtype\u001b[0m\u001b[0;34m,\u001b[0m \u001b[0mshape\u001b[0m\u001b[0;34m,\u001b[0m \u001b[0mverify_shape\u001b[0m\u001b[0;34m)\u001b[0m\u001b[0;34m\u001b[0m\u001b[0;34m\u001b[0m\u001b[0m\n\u001b[0m\u001b[1;32m    276\u001b[0m \u001b[0;34m\u001b[0m\u001b[0m\n\u001b[1;32m    277\u001b[0m   \u001b[0mg\u001b[0m \u001b[0;34m=\u001b[0m \u001b[0mops\u001b[0m\u001b[0;34m.\u001b[0m\u001b[0mget_default_graph\u001b[0m\u001b[0;34m(\u001b[0m\u001b[0;34m)\u001b[0m\u001b[0;34m\u001b[0m\u001b[0;34m\u001b[0m\u001b[0m\n",
      "\u001b[0;32m~/.local/lib/python3.8/site-packages/tensorflow/python/framework/constant_op.py\u001b[0m in \u001b[0;36m_constant_eager_impl\u001b[0;34m(ctx, value, dtype, shape, verify_shape)\u001b[0m\n\u001b[1;32m    298\u001b[0m \u001b[0;32mdef\u001b[0m \u001b[0m_constant_eager_impl\u001b[0m\u001b[0;34m(\u001b[0m\u001b[0mctx\u001b[0m\u001b[0;34m,\u001b[0m \u001b[0mvalue\u001b[0m\u001b[0;34m,\u001b[0m \u001b[0mdtype\u001b[0m\u001b[0;34m,\u001b[0m \u001b[0mshape\u001b[0m\u001b[0;34m,\u001b[0m \u001b[0mverify_shape\u001b[0m\u001b[0;34m)\u001b[0m\u001b[0;34m:\u001b[0m\u001b[0;34m\u001b[0m\u001b[0;34m\u001b[0m\u001b[0m\n\u001b[1;32m    299\u001b[0m   \u001b[0;34m\"\"\"Implementation of eager constant.\"\"\"\u001b[0m\u001b[0;34m\u001b[0m\u001b[0;34m\u001b[0m\u001b[0m\n\u001b[0;32m--> 300\u001b[0;31m   \u001b[0mt\u001b[0m \u001b[0;34m=\u001b[0m \u001b[0mconvert_to_eager_tensor\u001b[0m\u001b[0;34m(\u001b[0m\u001b[0mvalue\u001b[0m\u001b[0;34m,\u001b[0m \u001b[0mctx\u001b[0m\u001b[0;34m,\u001b[0m \u001b[0mdtype\u001b[0m\u001b[0;34m)\u001b[0m\u001b[0;34m\u001b[0m\u001b[0;34m\u001b[0m\u001b[0m\n\u001b[0m\u001b[1;32m    301\u001b[0m   \u001b[0;32mif\u001b[0m \u001b[0mshape\u001b[0m \u001b[0;32mis\u001b[0m \u001b[0;32mNone\u001b[0m\u001b[0;34m:\u001b[0m\u001b[0;34m\u001b[0m\u001b[0;34m\u001b[0m\u001b[0m\n\u001b[1;32m    302\u001b[0m     \u001b[0;32mreturn\u001b[0m \u001b[0mt\u001b[0m\u001b[0;34m\u001b[0m\u001b[0;34m\u001b[0m\u001b[0m\n",
      "\u001b[0;32m~/.local/lib/python3.8/site-packages/tensorflow/python/framework/constant_op.py\u001b[0m in \u001b[0;36mconvert_to_eager_tensor\u001b[0;34m(value, ctx, dtype)\u001b[0m\n\u001b[1;32m     96\u001b[0m       \u001b[0mdtype\u001b[0m \u001b[0;34m=\u001b[0m \u001b[0mdtypes\u001b[0m\u001b[0;34m.\u001b[0m\u001b[0mas_dtype\u001b[0m\u001b[0;34m(\u001b[0m\u001b[0mdtype\u001b[0m\u001b[0;34m)\u001b[0m\u001b[0;34m.\u001b[0m\u001b[0mas_datatype_enum\u001b[0m\u001b[0;34m\u001b[0m\u001b[0;34m\u001b[0m\u001b[0m\n\u001b[1;32m     97\u001b[0m   \u001b[0mctx\u001b[0m\u001b[0;34m.\u001b[0m\u001b[0mensure_initialized\u001b[0m\u001b[0;34m(\u001b[0m\u001b[0;34m)\u001b[0m\u001b[0;34m\u001b[0m\u001b[0;34m\u001b[0m\u001b[0m\n\u001b[0;32m---> 98\u001b[0;31m   \u001b[0;32mreturn\u001b[0m \u001b[0mops\u001b[0m\u001b[0;34m.\u001b[0m\u001b[0mEagerTensor\u001b[0m\u001b[0;34m(\u001b[0m\u001b[0mvalue\u001b[0m\u001b[0;34m,\u001b[0m \u001b[0mctx\u001b[0m\u001b[0;34m.\u001b[0m\u001b[0mdevice_name\u001b[0m\u001b[0;34m,\u001b[0m \u001b[0mdtype\u001b[0m\u001b[0;34m)\u001b[0m\u001b[0;34m\u001b[0m\u001b[0;34m\u001b[0m\u001b[0m\n\u001b[0m\u001b[1;32m     99\u001b[0m \u001b[0;34m\u001b[0m\u001b[0m\n\u001b[1;32m    100\u001b[0m \u001b[0;34m\u001b[0m\u001b[0m\n",
      "\u001b[0;31mValueError\u001b[0m: Failed to convert a NumPy array to a Tensor (Unsupported object type list)."
     ]
    }
   ],
   "source": [
    "dataset = tf.data.Dataset.from_tensor_slices((df_tab[0][\"ear_10_temporal\"].values, df_tab[0][\"target\"].values))"
   ]
  },
  {
   "cell_type": "code",
   "execution_count": null,
   "metadata": {},
   "outputs": [],
   "source": []
  },
  {
   "cell_type": "code",
   "execution_count": null,
   "metadata": {},
   "outputs": [],
   "source": []
  },
  {
   "cell_type": "code",
   "execution_count": null,
   "metadata": {},
   "outputs": [],
   "source": []
  },
  {
   "cell_type": "code",
   "execution_count": null,
   "metadata": {},
   "outputs": [],
   "source": []
  },
  {
   "cell_type": "code",
   "execution_count": 61,
   "metadata": {},
   "outputs": [],
   "source": [
    "mean_landmarks_normale = pd.DataFrame(df_landmarks[df_landmarks[\"frame\"] <= num_frame_by_num_min].mean())\n",
    "mean_landmarks_fatigue = pd.DataFrame(df_landmarks[df_landmarks[\"frame\"] > num_frame_by_num_min].mean())\n",
    "mean_landmarks_fatigue = mean_landmarks_fatigue.drop(\"frame\")\n",
    "mean_landmarks_normale = mean_landmarks_normale.drop(\"frame\")\n",
    "mean_landmarks_fatigue = mean_landmarks_fatigue.rename(columns={0 : \"Fatigue Mean\"})\n",
    "mean_landmarks_normale = mean_landmarks_normale.rename(columns={0 : \"Normale Mean\"})\n"
   ]
  },
  {
   "cell_type": "code",
   "execution_count": 63,
   "metadata": {},
   "outputs": [
    {
     "output_type": "execute_result",
     "data": {
      "text/plain": [
       "                Fatigue Mean  Normale Mean   Variance  Mean Difference\n",
       "landmarks_1_x     948.928432    940.268943  37.493377         8.659489\n",
       "landmarks_1_y     458.070312    458.915694   0.357335        -0.845382\n",
       "landmarks_2_x     949.041713    941.249086  30.362523         7.792628\n",
       "landmarks_2_y     478.479771    479.452186   0.472795        -0.972415\n",
       "landmarks_3_x     950.495117    943.606689  23.725223         6.888428\n",
       "...                      ...           ...        ...              ...\n",
       "landmarks_66_y    536.205078    532.847936   5.635202         3.357142\n",
       "landmarks_67_x   1024.118025   1020.762237   5.630657         3.355788\n",
       "landmarks_67_y    536.616490    533.585438   4.593638         3.031052\n",
       "landmarks_68_x   1017.119141   1013.797074   5.518064         3.322067\n",
       "landmarks_68_y    535.744141    533.046856   3.637672         2.697285\n",
       "\n",
       "[136 rows x 4 columns]"
      ],
      "text/html": "<div>\n<style scoped>\n    .dataframe tbody tr th:only-of-type {\n        vertical-align: middle;\n    }\n\n    .dataframe tbody tr th {\n        vertical-align: top;\n    }\n\n    .dataframe thead th {\n        text-align: right;\n    }\n</style>\n<table border=\"1\" class=\"dataframe\">\n  <thead>\n    <tr style=\"text-align: right;\">\n      <th></th>\n      <th>Fatigue Mean</th>\n      <th>Normale Mean</th>\n      <th>Variance</th>\n      <th>Mean Difference</th>\n    </tr>\n  </thead>\n  <tbody>\n    <tr>\n      <th>landmarks_1_x</th>\n      <td>948.928432</td>\n      <td>940.268943</td>\n      <td>37.493377</td>\n      <td>8.659489</td>\n    </tr>\n    <tr>\n      <th>landmarks_1_y</th>\n      <td>458.070312</td>\n      <td>458.915694</td>\n      <td>0.357335</td>\n      <td>-0.845382</td>\n    </tr>\n    <tr>\n      <th>landmarks_2_x</th>\n      <td>949.041713</td>\n      <td>941.249086</td>\n      <td>30.362523</td>\n      <td>7.792628</td>\n    </tr>\n    <tr>\n      <th>landmarks_2_y</th>\n      <td>478.479771</td>\n      <td>479.452186</td>\n      <td>0.472795</td>\n      <td>-0.972415</td>\n    </tr>\n    <tr>\n      <th>landmarks_3_x</th>\n      <td>950.495117</td>\n      <td>943.606689</td>\n      <td>23.725223</td>\n      <td>6.888428</td>\n    </tr>\n    <tr>\n      <th>...</th>\n      <td>...</td>\n      <td>...</td>\n      <td>...</td>\n      <td>...</td>\n    </tr>\n    <tr>\n      <th>landmarks_66_y</th>\n      <td>536.205078</td>\n      <td>532.847936</td>\n      <td>5.635202</td>\n      <td>3.357142</td>\n    </tr>\n    <tr>\n      <th>landmarks_67_x</th>\n      <td>1024.118025</td>\n      <td>1020.762237</td>\n      <td>5.630657</td>\n      <td>3.355788</td>\n    </tr>\n    <tr>\n      <th>landmarks_67_y</th>\n      <td>536.616490</td>\n      <td>533.585438</td>\n      <td>4.593638</td>\n      <td>3.031052</td>\n    </tr>\n    <tr>\n      <th>landmarks_68_x</th>\n      <td>1017.119141</td>\n      <td>1013.797074</td>\n      <td>5.518064</td>\n      <td>3.322067</td>\n    </tr>\n    <tr>\n      <th>landmarks_68_y</th>\n      <td>535.744141</td>\n      <td>533.046856</td>\n      <td>3.637672</td>\n      <td>2.697285</td>\n    </tr>\n  </tbody>\n</table>\n<p>136 rows × 4 columns</p>\n</div>"
     },
     "metadata": {},
     "execution_count": 63
    }
   ],
   "source": [
    "mean_landamrks = pd.concat([mean_landmarks_fatigue, mean_landmarks_normale], axis=1)\n",
    "mean_landamrks[\"Variance\"] = mean_landamrks.var(axis=1)\n",
    "mean_landamrks[\"Mean Difference\"] = mean_landamrks[\"Fatigue Mean\"] - mean_landamrks[\"Normale Mean\"]\n",
    "mean_landamrks"
   ]
  },
  {
   "cell_type": "code",
   "execution_count": null,
   "metadata": {},
   "outputs": [],
   "source": [
    "calculer distance relative -> personne change position au cours de la video"
   ]
  }
 ]
}